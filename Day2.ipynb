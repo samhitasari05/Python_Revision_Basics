{
 "cells": [
  {
   "cell_type": "markdown",
   "id": "999c61e3-5847-4afe-a6ac-e769339387f3",
   "metadata": {},
   "source": [
    "On Day 2, I have learned\n",
    "\n",
    "Python Data structures and Boolean\n",
    "\n",
    "1 Boolean\n",
    "2 Boolean and Logical Operators\n",
    "3 Lists \n",
    "4 Comparison Operators\n",
    "5 Dictionaries\n",
    "6 Tuples\n",
    "7 Sets"
   ]
  },
  {
   "cell_type": "markdown",
   "id": "e4d21c39-4ce5-4b6e-b546-138cc891586d",
   "metadata": {},
   "source": [
    "Boolean values are 2 constant objects False and True\n",
    "They are used to represent truth values"
   ]
  },
  {
   "cell_type": "code",
   "execution_count": 2,
   "id": "b07466aa-f562-427f-a01a-cac5a4fef02b",
   "metadata": {},
   "outputs": [
    {
     "data": {
      "text/plain": [
       "False"
      ]
     },
     "execution_count": 2,
     "metadata": {},
     "output_type": "execute_result"
    }
   ],
   "source": [
    "True\n",
    "False"
   ]
  },
  {
   "cell_type": "code",
   "execution_count": 6,
   "id": "0fd052c0-7998-4f31-a16b-e38efcf4c515",
   "metadata": {},
   "outputs": [
    {
     "data": {
      "text/plain": [
       "bool"
      ]
     },
     "execution_count": 6,
     "metadata": {},
     "output_type": "execute_result"
    }
   ],
   "source": [
    "type(True)"
   ]
  },
  {
   "cell_type": "markdown",
   "id": "e6fed13d-90f3-4395-ae70-5dbf742c0a63",
   "metadata": {},
   "source": [
    "In-build functions"
   ]
  },
  {
   "cell_type": "code",
   "execution_count": 8,
   "id": "aca1bdb0-0555-4250-8b00-8f829f45dfab",
   "metadata": {},
   "outputs": [],
   "source": [
    "my_str=\"Samhita Sarikonda\""
   ]
  },
  {
   "cell_type": "code",
   "execution_count": 10,
   "id": "a4ba6809-0b51-42cf-912f-6d16c0403e01",
   "metadata": {},
   "outputs": [
    {
     "data": {
      "text/plain": [
       "False"
      ]
     },
     "execution_count": 10,
     "metadata": {},
     "output_type": "execute_result"
    }
   ],
   "source": [
    "my_str.isalnum() #combination of alphabets and numeric"
   ]
  },
  {
   "cell_type": "code",
   "execution_count": 16,
   "id": "77773f3d-2153-4a60-b331-fd7678fe8a64",
   "metadata": {},
   "outputs": [
    {
     "data": {
      "text/plain": [
       "False"
      ]
     },
     "execution_count": 16,
     "metadata": {},
     "output_type": "execute_result"
    }
   ],
   "source": [
    "my_str.isalpha() #checks if all the characters in the string are alphabets"
   ]
  },
  {
   "cell_type": "code",
   "execution_count": 18,
   "id": "c5d91910-5ab1-416a-899f-695b6760250c",
   "metadata": {},
   "outputs": [
    {
     "data": {
      "text/plain": [
       "False"
      ]
     },
     "execution_count": 18,
     "metadata": {},
     "output_type": "execute_result"
    }
   ],
   "source": [
    "my_str.isdigit() #checks if that string contains any digit"
   ]
  },
  {
   "cell_type": "code",
   "execution_count": 20,
   "id": "fd09c100-151e-4348-9568-e766dc4059d3",
   "metadata": {},
   "outputs": [
    {
     "data": {
      "text/plain": [
       "True"
      ]
     },
     "execution_count": 20,
     "metadata": {},
     "output_type": "execute_result"
    }
   ],
   "source": [
    "my_str.istitle() #Returns True if the string is a title-cased string meaning if th string starts with a capital letter like a heading, False otherwise."
   ]
  },
  {
   "cell_type": "code",
   "execution_count": 22,
   "id": "7d35de09-8d56-48bf-9bfe-df0f14227a19",
   "metadata": {},
   "outputs": [
    {
     "data": {
      "text/plain": [
       "False"
      ]
     },
     "execution_count": 22,
     "metadata": {},
     "output_type": "execute_result"
    }
   ],
   "source": [
    "my_str.isupper() #checks if string contains upper case"
   ]
  },
  {
   "cell_type": "code",
   "execution_count": 24,
   "id": "13722007-6670-4375-b14e-1b9f3f0085c4",
   "metadata": {},
   "outputs": [
    {
     "data": {
      "text/plain": [
       "False"
      ]
     },
     "execution_count": 24,
     "metadata": {},
     "output_type": "execute_result"
    }
   ],
   "source": [
    "my_str.islower() #checks if string contains lower case"
   ]
  },
  {
   "cell_type": "code",
   "execution_count": 26,
   "id": "1a177d08-07a7-414c-81fc-ee433b63ec96",
   "metadata": {},
   "outputs": [
    {
     "data": {
      "text/plain": [
       "False"
      ]
     },
     "execution_count": 26,
     "metadata": {},
     "output_type": "execute_result"
    }
   ],
   "source": [
    "my_str.isspace() #checks if string contains any spaces"
   ]
  },
  {
   "cell_type": "code",
   "execution_count": 28,
   "id": "f1f71edc-12a2-4c9e-87f1-c29fa7dde8d3",
   "metadata": {},
   "outputs": [
    {
     "data": {
      "text/plain": [
       "False"
      ]
     },
     "execution_count": 28,
     "metadata": {},
     "output_type": "execute_result"
    }
   ],
   "source": [
    "my_str.endswith('k') #checks if string ends with the specified character"
   ]
  },
  {
   "cell_type": "code",
   "execution_count": 32,
   "id": "0bf9511b-d26e-431b-baa3-6b0c128b3953",
   "metadata": {},
   "outputs": [
    {
     "data": {
      "text/plain": [
       "True"
      ]
     },
     "execution_count": 32,
     "metadata": {},
     "output_type": "execute_result"
    }
   ],
   "source": [
    "my_str.startswith('s')  #checks if string startss with the specified character"
   ]
  },
  {
   "cell_type": "code",
   "execution_count": 34,
   "id": "de309c9a-db20-4d96-a1f6-ffb60fdc59cc",
   "metadata": {},
   "outputs": [
    {
     "data": {
      "text/plain": [
       "True"
      ]
     },
     "execution_count": 34,
     "metadata": {},
     "output_type": "execute_result"
    }
   ],
   "source": [
    "my_str.startswith('S')"
   ]
  },
  {
   "cell_type": "markdown",
   "id": "1a91c8e4-3227-4771-aac4-28910cf19b01",
   "metadata": {},
   "source": [
    "Boolean and Logical Operators"
   ]
  },
  {
   "cell_type": "code",
   "execution_count": 37,
   "id": "d2a4fc2b-7ec2-47d5-a70e-b35bf580ada7",
   "metadata": {},
   "outputs": [
    {
     "data": {
      "text/plain": [
       "True"
      ]
     },
     "execution_count": 37,
     "metadata": {},
     "output_type": "execute_result"
    }
   ],
   "source": [
    "True and True"
   ]
  },
  {
   "cell_type": "code",
   "execution_count": 39,
   "id": "6e2a9386-66a8-41b7-998c-8f5e4e5405b4",
   "metadata": {},
   "outputs": [
    {
     "data": {
      "text/plain": [
       "False"
      ]
     },
     "execution_count": 39,
     "metadata": {},
     "output_type": "execute_result"
    }
   ],
   "source": [
    "True and False"
   ]
  },
  {
   "cell_type": "code",
   "execution_count": 41,
   "id": "ceed2f87-5c69-4842-8131-89e6c86956f9",
   "metadata": {},
   "outputs": [
    {
     "data": {
      "text/plain": [
       "True"
      ]
     },
     "execution_count": 41,
     "metadata": {},
     "output_type": "execute_result"
    }
   ],
   "source": [
    "True or False"
   ]
  },
  {
   "cell_type": "code",
   "execution_count": 43,
   "id": "59b681da-44db-47db-99d2-28482d57838c",
   "metadata": {},
   "outputs": [
    {
     "data": {
      "text/plain": [
       "True"
      ]
     },
     "execution_count": 43,
     "metadata": {},
     "output_type": "execute_result"
    }
   ],
   "source": [
    "True or True"
   ]
  },
  {
   "cell_type": "code",
   "execution_count": 45,
   "id": "87b4554e-1673-4caa-b46a-b3ce4f491f3f",
   "metadata": {},
   "outputs": [
    {
     "data": {
      "text/plain": [
       "True"
      ]
     },
     "execution_count": 45,
     "metadata": {},
     "output_type": "execute_result"
    }
   ],
   "source": [
    "False or True"
   ]
  },
  {
   "cell_type": "code",
   "execution_count": 47,
   "id": "aa4c4592-6ec4-498a-b09f-c316b0a73ea1",
   "metadata": {},
   "outputs": [],
   "source": [
    "my_str = \"Samhita\"\n",
    "my_str1 = \"Hello1\"\n"
   ]
  },
  {
   "cell_type": "code",
   "execution_count": 49,
   "id": "ce5eb823-8ae0-4796-8a20-adfbb481feb7",
   "metadata": {},
   "outputs": [
    {
     "data": {
      "text/plain": [
       "True"
      ]
     },
     "execution_count": 49,
     "metadata": {},
     "output_type": "execute_result"
    }
   ],
   "source": [
    "my_str.isalpha() or my_str1.isalnum()"
   ]
  },
  {
   "cell_type": "markdown",
   "id": "cee9b801-f428-4ef3-893e-2ba9b3e6df8e",
   "metadata": {},
   "source": [
    "LISTS: List is a data structure in python that is mutable, changeable, ordered sequence of elements. The elements inside the list are called items. A list can have list of items of any daya type.\n",
    "\n",
    "Just as strings defined in double quotes lists are defined in square brackets[]"
   ]
  },
  {
   "cell_type": "code",
   "execution_count": 52,
   "id": "f2d28168-2519-4828-b57d-a5a65f88bc24",
   "metadata": {},
   "outputs": [
    {
     "data": {
      "text/plain": [
       "list"
      ]
     },
     "execution_count": 52,
     "metadata": {},
     "output_type": "execute_result"
    }
   ],
   "source": [
    "type([])"
   ]
  },
  {
   "cell_type": "markdown",
   "id": "63d37e79-5240-4dc6-8e49-3406fd92cc93",
   "metadata": {},
   "source": [
    "Ways of defining lists"
   ]
  },
  {
   "cell_type": "code",
   "execution_count": 54,
   "id": "674e0ab7-45a0-442d-a0e4-622d4777cf0e",
   "metadata": {},
   "outputs": [],
   "source": [
    "x = []"
   ]
  },
  {
   "cell_type": "code",
   "execution_count": 56,
   "id": "f7cd9a5e-de40-4afc-9025-9641bf1c1aaa",
   "metadata": {},
   "outputs": [
    {
     "data": {
      "text/plain": [
       "list"
      ]
     },
     "execution_count": 56,
     "metadata": {},
     "output_type": "execute_result"
    }
   ],
   "source": [
    "type(x)"
   ]
  },
  {
   "cell_type": "markdown",
   "id": "6d4b2438-e0a4-4183-905a-63c4bb1078e3",
   "metadata": {},
   "source": [
    "We can also define lists using an inbuilt function named 'list'"
   ]
  },
  {
   "cell_type": "code",
   "execution_count": 64,
   "id": "1e77d598-08c3-4965-b5d4-044bfdef7fd7",
   "metadata": {},
   "outputs": [
    {
     "data": {
      "text/plain": [
       "list"
      ]
     },
     "execution_count": 64,
     "metadata": {},
     "output_type": "execute_result"
    }
   ],
   "source": [
    "lst = list()\n",
    "type(lst)"
   ]
  },
  {
   "cell_type": "markdown",
   "id": "de332461-1c6e-4e94-ad9e-edec8ab8df57",
   "metadata": {},
   "source": [
    "List has values in it separated by commas"
   ]
  },
  {
   "cell_type": "code",
   "execution_count": 67,
   "id": "f9c03136-f403-4466-9544-f44144cff199",
   "metadata": {},
   "outputs": [],
   "source": [
    "lst = ['hey', 'you', 1,3, 2.0]\n"
   ]
  },
  {
   "cell_type": "code",
   "execution_count": 69,
   "id": "879dfb36-8d3d-4ebe-a38c-683b2afd1eb5",
   "metadata": {},
   "outputs": [
    {
     "data": {
      "text/plain": [
       "list"
      ]
     },
     "execution_count": 69,
     "metadata": {},
     "output_type": "execute_result"
    }
   ],
   "source": [
    "type(lst)"
   ]
  },
  {
   "cell_type": "code",
   "execution_count": 71,
   "id": "d684c665-9677-4d3e-9e11-e88f596383f8",
   "metadata": {},
   "outputs": [
    {
     "data": {
      "text/plain": [
       "5"
      ]
     },
     "execution_count": 71,
     "metadata": {},
     "output_type": "execute_result"
    }
   ],
   "source": [
    "len(lst)"
   ]
  },
  {
   "cell_type": "markdown",
   "id": "6b63e683-6729-4e4b-9e8a-17c0e04ca3d9",
   "metadata": {},
   "source": [
    "In-Build functions inside lists:"
   ]
  },
  {
   "cell_type": "markdown",
   "id": "a1eb0a9a-e0df-40b8-8e87-0e691d4c3198",
   "metadata": {},
   "source": [
    "**APPEND**"
   ]
  },
  {
   "cell_type": "code",
   "execution_count": 88,
   "id": "ef982131-220b-4bfe-a725-a23352826e94",
   "metadata": {},
   "outputs": [
    {
     "name": "stdout",
     "output_type": "stream",
     "text": [
      "['hey', 'you', 1, 3, 2.0, 'sam', 'sam', 'sam']\n"
     ]
    }
   ],
   "source": [
    "#Append is used to add elements at the end of the list - by default\n",
    "\n",
    "lst.append(\"sam\")\n",
    "\n",
    "print(lst)"
   ]
  },
  {
   "cell_type": "markdown",
   "id": "12540877-7842-42a9-ad1f-fb5162f9d129",
   "metadata": {},
   "source": [
    "**How indexing is done in lists**\n",
    "\n",
    "starts from 0"
   ]
  },
  {
   "cell_type": "code",
   "execution_count": 82,
   "id": "1f0ebc00-e2a9-4d43-8129-f255cc1fc057",
   "metadata": {},
   "outputs": [
    {
     "data": {
      "text/plain": [
       "'hey'"
      ]
     },
     "execution_count": 82,
     "metadata": {},
     "output_type": "execute_result"
    }
   ],
   "source": [
    "lst[0]"
   ]
  },
  {
   "cell_type": "markdown",
   "id": "809605ed-267e-4630-8d2b-5bb4b442664e",
   "metadata": {},
   "source": [
    "**Indexing can also be done with the range of values**\n",
    "\n",
    "#syntax = [start:end] -> includes the start value but not the end value"
   ]
  },
  {
   "cell_type": "code",
   "execution_count": 90,
   "id": "46dfe3a2-2863-4949-ab5c-b77d1b9790f4",
   "metadata": {},
   "outputs": [
    {
     "data": {
      "text/plain": [
       "['hey', 'you', 1, 3, 2.0, 'sam', 'sam', 'sam']"
      ]
     },
     "execution_count": 90,
     "metadata": {},
     "output_type": "execute_result"
    }
   ],
   "source": [
    "lst[:]"
   ]
  },
  {
   "cell_type": "code",
   "execution_count": 92,
   "id": "97e65d45-47c9-49d0-a5d1-62ab649daaa0",
   "metadata": {},
   "outputs": [
    {
     "data": {
      "text/plain": [
       "['hey', 'you', 1, 3, 2.0, 'sam', 'sam', 'sam']"
      ]
     },
     "execution_count": 92,
     "metadata": {},
     "output_type": "execute_result"
    }
   ],
   "source": [
    "lst[0:]"
   ]
  },
  {
   "cell_type": "code",
   "execution_count": 98,
   "id": "155f63da-e4b5-4e5a-8484-eb5f95bbfef1",
   "metadata": {},
   "outputs": [
    {
     "data": {
      "text/plain": [
       "['hey', 'you', 1]"
      ]
     },
     "execution_count": 98,
     "metadata": {},
     "output_type": "execute_result"
    }
   ],
   "source": [
    "lst[0:3]"
   ]
  },
  {
   "cell_type": "code",
   "execution_count": 102,
   "id": "5f1bf7f1-ded9-455e-aa48-b17fa341548f",
   "metadata": {},
   "outputs": [],
   "source": [
    "#Nested list - lists the elements as a sublist withing the main lists if we declare the items that way\n",
    "\n",
    "lst.append([\"jay\", \"win\"])"
   ]
  },
  {
   "cell_type": "code",
   "execution_count": 104,
   "id": "e7253659-3d6b-4961-b76a-9ea6235d0021",
   "metadata": {},
   "outputs": [
    {
     "data": {
      "text/plain": [
       "['hey', 'you', 1, 3, 2.0, 'sam', 'sam', 'sam', ['jay', 'win']]"
      ]
     },
     "execution_count": 104,
     "metadata": {},
     "output_type": "execute_result"
    }
   ],
   "source": [
    "lst"
   ]
  },
  {
   "cell_type": "markdown",
   "id": "6c130854-a62f-4d63-8d75-de05569327e1",
   "metadata": {},
   "source": [
    "**EXTEND**\n",
    "\n",
    "so to avoid items/elements getting added as nested lists we can use extend function which helps us overcome that issue"
   ]
  },
  {
   "cell_type": "code",
   "execution_count": 117,
   "id": "3d63addb-895c-45ff-a34d-383ea59b2314",
   "metadata": {},
   "outputs": [],
   "source": [
    "lst.extend([1,2,4,'thanks'])"
   ]
  },
  {
   "cell_type": "code",
   "execution_count": 122,
   "id": "285a5fe6-1509-4dce-9c38-a0fd60701471",
   "metadata": {},
   "outputs": [
    {
     "name": "stdout",
     "output_type": "stream",
     "text": [
      "['hey', 'you', 1, 3, 'me', 2.0, 'sam', 'sam', 'sam', ['jay', 'win'], 1, 2, 4, 'thanks']\n"
     ]
    }
   ],
   "source": [
    "print(lst)"
   ]
  },
  {
   "cell_type": "markdown",
   "id": "9fd872e8-b9f4-4165-b3e0-04a411e5d89f",
   "metadata": {},
   "source": [
    "**Insert**\n",
    "\n",
    "but sometimes, we might ant to insert items/values at a particular location rather than at the end which is done by append, this is the case we use Insert function\n",
    "\n",
    "syntax = (index, value we want to insert inside the list)"
   ]
  },
  {
   "cell_type": "code",
   "execution_count": 111,
   "id": "6c5bad63-7d01-4e88-ba23-a8ed6533b2f1",
   "metadata": {},
   "outputs": [],
   "source": [
    "lst.insert(4, \"me\")"
   ]
  },
  {
   "cell_type": "code",
   "execution_count": 113,
   "id": "797da644-5c29-4c62-8a1b-bc308e32ce28",
   "metadata": {},
   "outputs": [
    {
     "data": {
      "text/plain": [
       "['hey', 'you', 1, 3, 'me', 2.0, 'sam', 'sam', 'sam', ['jay', 'win']]"
      ]
     },
     "execution_count": 113,
     "metadata": {},
     "output_type": "execute_result"
    }
   ],
   "source": [
    "lst"
   ]
  },
  {
   "cell_type": "markdown",
   "id": "a63c987e-d70e-403a-b0c1-d9df8624b643",
   "metadata": {},
   "source": [
    "**Various operations that can be performed in lists**"
   ]
  },
  {
   "cell_type": "code",
   "execution_count": 127,
   "id": "d284821a-0c19-4270-8b4b-ec83e0e55558",
   "metadata": {},
   "outputs": [],
   "source": [
    "lst = [1,2,5,6,7]"
   ]
  },
  {
   "cell_type": "code",
   "execution_count": 129,
   "id": "3a8e4177-f39f-48a5-9991-77688aa809f8",
   "metadata": {},
   "outputs": [
    {
     "data": {
      "text/plain": [
       "21"
      ]
     },
     "execution_count": 129,
     "metadata": {},
     "output_type": "execute_result"
    }
   ],
   "source": [
    "sum(lst)"
   ]
  },
  {
   "cell_type": "markdown",
   "id": "c437ef8a-6f82-44f7-bf35-06cc9694e762",
   "metadata": {},
   "source": [
    "**Pop() Method**"
   ]
  },
  {
   "cell_type": "code",
   "execution_count": 134,
   "id": "7ad76ad5-86ef-4b00-8035-388df22f7bc3",
   "metadata": {},
   "outputs": [
    {
     "data": {
      "text/plain": [
       "7"
      ]
     },
     "execution_count": 134,
     "metadata": {},
     "output_type": "execute_result"
    }
   ],
   "source": [
    "lst.pop() #if nothing is given by default it removes the last element in the list"
   ]
  },
  {
   "cell_type": "code",
   "execution_count": 136,
   "id": "f6d31948-4aad-4dbe-bbb2-c8d9430f1c90",
   "metadata": {},
   "outputs": [
    {
     "data": {
      "text/plain": [
       "1"
      ]
     },
     "execution_count": 136,
     "metadata": {},
     "output_type": "execute_result"
    }
   ],
   "source": [
    "lst.pop(0) #this time i have given an index, so that particular index element will be deleted"
   ]
  },
  {
   "cell_type": "code",
   "execution_count": 138,
   "id": "74f2253d-bd9a-42c2-b66d-b209d6821f48",
   "metadata": {},
   "outputs": [
    {
     "data": {
      "text/plain": [
       "[2, 5, 6]"
      ]
     },
     "execution_count": 138,
     "metadata": {},
     "output_type": "execute_result"
    }
   ],
   "source": [
    "lst"
   ]
  },
  {
   "cell_type": "markdown",
   "id": "9b0840a3-763a-4625-b355-e2220cd40f01",
   "metadata": {},
   "source": [
    "**Count function: calculates the occurance of given elements of list**"
   ]
  },
  {
   "cell_type": "code",
   "execution_count": 141,
   "id": "f25422e1-9309-42a4-a06f-c2bedb61576e",
   "metadata": {},
   "outputs": [
    {
     "data": {
      "text/plain": [
       "1"
      ]
     },
     "execution_count": 141,
     "metadata": {},
     "output_type": "execute_result"
    }
   ],
   "source": [
    "lst.count(2)"
   ]
  },
  {
   "cell_type": "code",
   "execution_count": 143,
   "id": "70ca7a3a-784c-4295-9b5c-bb4cf2e8212b",
   "metadata": {},
   "outputs": [
    {
     "data": {
      "text/plain": [
       "3"
      ]
     },
     "execution_count": 143,
     "metadata": {},
     "output_type": "execute_result"
    }
   ],
   "source": [
    "len(lst)"
   ]
  },
  {
   "cell_type": "markdown",
   "id": "ee0ff5af-e5ec-45be-b307-8e9388192b36",
   "metadata": {},
   "source": [
    "**Index() : returns the index of first occurence. start and end are not necessary parameters**\n",
    "#syntax = index(value, start, stop)\n",
    "\n",
    "for the value - we are actually providing the value asking to search at which index that value is present while for the start and stop parameters we will give the indexes."
   ]
  },
  {
   "cell_type": "code",
   "execution_count": 146,
   "id": "2d9a6150-c085-446f-a45a-4ec2a586098f",
   "metadata": {},
   "outputs": [
    {
     "data": {
      "text/plain": [
       "0"
      ]
     },
     "execution_count": 146,
     "metadata": {},
     "output_type": "execute_result"
    }
   ],
   "source": [
    "lst.index(2) #here we are asking at which index the value 2 is present"
   ]
  },
  {
   "cell_type": "code",
   "execution_count": 149,
   "id": "1d073766-5571-4d5a-a1e6-b63ef3fe143b",
   "metadata": {},
   "outputs": [
    {
     "data": {
      "text/plain": [
       "0"
      ]
     },
     "execution_count": 149,
     "metadata": {},
     "output_type": "execute_result"
    }
   ],
   "source": [
    "lst.index(2,0,3)"
   ]
  },
  {
   "cell_type": "markdown",
   "id": "38d624a2-72d1-4391-a385-e16568beb5f8",
   "metadata": {},
   "source": [
    "**Finding the min and max elements using inbuilt fu**"
   ]
  },
  {
   "cell_type": "code",
   "execution_count": 152,
   "id": "9748e948-319f-4480-9a6e-873802b27223",
   "metadata": {},
   "outputs": [
    {
     "data": {
      "text/plain": [
       "2"
      ]
     },
     "execution_count": 152,
     "metadata": {},
     "output_type": "execute_result"
    }
   ],
   "source": [
    "min(lst)"
   ]
  },
  {
   "cell_type": "code",
   "execution_count": 154,
   "id": "76021fdd-ea35-42e2-abdc-fb8f03d8b024",
   "metadata": {},
   "outputs": [
    {
     "data": {
      "text/plain": [
       "6"
      ]
     },
     "execution_count": 154,
     "metadata": {},
     "output_type": "execute_result"
    }
   ],
   "source": [
    "max(lst)"
   ]
  },
  {
   "cell_type": "code",
   "execution_count": null,
   "id": "78bcf741-7c8b-4f03-b126-ab88868a0a31",
   "metadata": {},
   "outputs": [],
   "source": []
  }
 ],
 "metadata": {
  "kernelspec": {
   "display_name": "Python [conda env:base] *",
   "language": "python",
   "name": "conda-base-py"
  },
  "language_info": {
   "codemirror_mode": {
    "name": "ipython",
    "version": 3
   },
   "file_extension": ".py",
   "mimetype": "text/x-python",
   "name": "python",
   "nbconvert_exporter": "python",
   "pygments_lexer": "ipython3",
   "version": "3.12.7"
  }
 },
 "nbformat": 4,
 "nbformat_minor": 5
}
