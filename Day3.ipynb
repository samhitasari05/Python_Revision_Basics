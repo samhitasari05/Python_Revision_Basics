{
 "cells": [
  {
   "cell_type": "markdown",
   "id": "79de9bdd-a997-48b9-aacf-1e1980efa6c3",
   "metadata": {},
   "source": [
    "**SETS** \n",
    "A set is an unordered collection data type that is iterable, mutable and has no duplicate elements. \n",
    "\n",
    "A hash table is a data structure that stores key-value pairs, allowing for fast retrieval of values based on their keys. It uses a hash function to map keys to unique indices in an array, making data access efficient with average time complexity of O(1).\n",
    "SETS does not support indexing"
   ]
  },
  {
   "cell_type": "code",
   "execution_count": 129,
   "id": "c853b0a6-689b-4094-b481-279255980636",
   "metadata": {},
   "outputs": [
    {
     "name": "stdout",
     "output_type": "stream",
     "text": [
      "set()\n",
      "<class 'set'>\n"
     ]
    }
   ],
   "source": [
    "#Defining a set\n",
    "\n",
    "set_var=set()\n",
    "print(set_var)\n",
    "print(type(set_var))"
   ]
  },
  {
   "cell_type": "code",
   "execution_count": 5,
   "id": "5c08a022-2cfb-43b9-93fc-13235e7219d1",
   "metadata": {},
   "outputs": [
    {
     "name": "stdout",
     "output_type": "stream",
     "text": [
      "{1, 2, 3, 4, 5, 6, 7}\n"
     ]
    }
   ],
   "source": [
    "#A set cannot have any duplicate elements\n",
    "\n",
    "set_var = {1,2,3,4,4,4,5,6,7,7,7}\n",
    "print(set_var)\n",
    "\n",
    "#If any duplicate elements are present, it will be taken as one element only"
   ]
  },
  {
   "cell_type": "code",
   "execution_count": 7,
   "id": "80cfcc84-7111-4ee8-a862-c8b70786cd55",
   "metadata": {},
   "outputs": [
    {
     "name": "stdout",
     "output_type": "stream",
     "text": [
      "{'apple', 'motog', 'samsung', 'googlepixel'}\n"
     ]
    }
   ],
   "source": [
    "set_var = {'samsung', 'apple', 'motog', 'googlepixel'}\n",
    "print(set_var)"
   ]
  },
  {
   "cell_type": "code",
   "execution_count": 9,
   "id": "470906a6-07c6-467f-ae52-31c0496819c2",
   "metadata": {},
   "outputs": [
    {
     "ename": "TypeError",
     "evalue": "'set' object is not subscriptable",
     "output_type": "error",
     "traceback": [
      "\u001b[0;31m---------------------------------------------------------------------------\u001b[0m",
      "\u001b[0;31mTypeError\u001b[0m                                 Traceback (most recent call last)",
      "Cell \u001b[0;32mIn[9], line 3\u001b[0m\n\u001b[1;32m      1\u001b[0m \u001b[38;5;66;03m#Sets donot support indexing\u001b[39;00m\n\u001b[0;32m----> 3\u001b[0m set_var[\u001b[38;5;241m0\u001b[39m]\n",
      "\u001b[0;31mTypeError\u001b[0m: 'set' object is not subscriptable"
     ]
    }
   ],
   "source": [
    "#Sets donot support indexing\n",
    "\n",
    "set_var[0]"
   ]
  },
  {
   "cell_type": "code",
   "execution_count": 131,
   "id": "31d21fd4-7da1-4751-a679-af7c250e9895",
   "metadata": {},
   "outputs": [
    {
     "ename": "TypeError",
     "evalue": "'set' object is not subscriptable",
     "output_type": "error",
     "traceback": [
      "\u001b[0;31m---------------------------------------------------------------------------\u001b[0m",
      "\u001b[0;31mTypeError\u001b[0m                                 Traceback (most recent call last)",
      "Cell \u001b[0;32mIn[131], line 1\u001b[0m\n\u001b[0;32m----> 1\u001b[0m set_var[\u001b[38;5;124m'\u001b[39m\u001b[38;5;124mapple\u001b[39m\u001b[38;5;124m'\u001b[39m]\n",
      "\u001b[0;31mTypeError\u001b[0m: 'set' object is not subscriptable"
     ]
    }
   ],
   "source": [
    "set_var['apple'] #another example to say that sets donot support indexing"
   ]
  },
  {
   "cell_type": "markdown",
   "id": "a1548534-b15a-462d-b138-c799fbdb5a74",
   "metadata": {},
   "source": [
    "**Some Inbuilt functions**"
   ]
  },
  {
   "cell_type": "code",
   "execution_count": 11,
   "id": "88a0e4bd-33e0-4f8f-bfab-ed1c9e7d6bf9",
   "metadata": {},
   "outputs": [],
   "source": [
    "# how do we add elements in sets\n",
    "\n",
    "set_var.add(\"nothing\")"
   ]
  },
  {
   "cell_type": "code",
   "execution_count": 13,
   "id": "9a96422a-50a6-480f-b92c-b2693962d9bf",
   "metadata": {},
   "outputs": [
    {
     "data": {
      "text/plain": [
       "{'apple', 'googlepixel', 'motog', 'nothing', 'samsung'}"
      ]
     },
     "execution_count": 13,
     "metadata": {},
     "output_type": "execute_result"
    }
   ],
   "source": [
    "set_var"
   ]
  },
  {
   "cell_type": "code",
   "execution_count": 54,
   "id": "28a53205-5bb1-4615-9c1f-b6a85dbb7b49",
   "metadata": {},
   "outputs": [
    {
     "data": {
      "text/plain": [
       "{'nothing'}"
      ]
     },
     "execution_count": 54,
     "metadata": {},
     "output_type": "execute_result"
    }
   ],
   "source": [
    "set1 = {'samsung', 'apple', 'motog', 'googlepixel'}\n",
    "set2 = {'apple', 'googlepixel', 'motog', 'nothing', 'samsung'}\n",
    "\n",
    "set2.difference(set1)\n",
    "#here from set2 we will be removing all the common elements that are common in both the sets. Remeber, difference operation is not an update on set2, it remains the same."
   ]
  },
  {
   "cell_type": "code",
   "execution_count": 56,
   "id": "2d4aad1d-6a9b-457a-9c1a-83d3f770c9e6",
   "metadata": {},
   "outputs": [
    {
     "name": "stdout",
     "output_type": "stream",
     "text": [
      "{'nothing'}\n",
      "{'googlepixel', 'apple', 'motog', 'samsung'}\n"
     ]
    }
   ],
   "source": [
    "#inorder to update the set with the above made changes we will have to perform the below operation\n",
    "\n",
    "#The difference_update() function in Python is used with sets to remove all elements in one set that are also present in another set. \n",
    "#It modifies the original set in place,rather than creating a new set.\n",
    "\n",
    "#Use difference_update() when you want to modify an existing set by removing specific elements, rather than creating a new set with the differences.\n",
    "set2.difference_update(set1)\n",
    "print(set2)\n",
    "print(set1)"
   ]
  },
  {
   "cell_type": "code",
   "execution_count": 58,
   "id": "7f18ea66-9726-4de8-9760-bdd33ead67cc",
   "metadata": {},
   "outputs": [
    {
     "name": "stdout",
     "output_type": "stream",
     "text": [
      "{'nothing'}\n"
     ]
    }
   ],
   "source": [
    "#intersection\n",
    "#Shows only the elements/items common in both the sets\n",
    "\n",
    "set2.intersection(set1)\n",
    "print(set2)\n"
   ]
  },
  {
   "cell_type": "code",
   "execution_count": 66,
   "id": "e69922d7-b091-46b7-9e3c-475a57a65404",
   "metadata": {},
   "outputs": [],
   "source": [
    "#To update the set with the above info\n",
    "#intersection_update() keeps only the elements that are common between set1 and set2.\n",
    "\n",
    "set2.intersection_update(set1)"
   ]
  },
  {
   "cell_type": "code",
   "execution_count": 68,
   "id": "876d7665-57be-4a2f-a8bd-35340a0582cb",
   "metadata": {},
   "outputs": [
    {
     "name": "stdout",
     "output_type": "stream",
     "text": [
      "set()\n"
     ]
    }
   ],
   "source": [
    "print(set2)"
   ]
  },
  {
   "cell_type": "markdown",
   "id": "f8f466ca-9fa4-423e-bb83-883723c0da65",
   "metadata": {},
   "source": [
    "**DICTIONARY** : is a collection which is unordered, changeable and indexed. In python dictionaries are written using curly braces and they have keys and values."
   ]
  },
  {
   "cell_type": "code",
   "execution_count": 71,
   "id": "b9c03795-0322-41c7-8ed7-55735c15a259",
   "metadata": {},
   "outputs": [],
   "source": [
    "dic = {}"
   ]
  },
  {
   "cell_type": "code",
   "execution_count": 73,
   "id": "c9b54fa1-997a-49fc-a53c-af95e1087c2f",
   "metadata": {},
   "outputs": [
    {
     "data": {
      "text/plain": [
       "dict"
      ]
     },
     "execution_count": 73,
     "metadata": {},
     "output_type": "execute_result"
    }
   ],
   "source": [
    "type(dic)"
   ]
  },
  {
   "cell_type": "markdown",
   "id": "946264a0-69dc-4d81-b3b2-a34e20a4ae5a",
   "metadata": {},
   "source": [
    "**Remember there's a difference between sets and dictionary. In sets, the elements are given normally while \n",
    "for a dictionary, the items are declared as key-value pairs.**"
   ]
  },
  {
   "cell_type": "code",
   "execution_count": 78,
   "id": "11ddedb3-38ac-4c6e-b88b-bfb5eda78aa0",
   "metadata": {},
   "outputs": [
    {
     "data": {
      "text/plain": [
       "dict"
      ]
     },
     "execution_count": 78,
     "metadata": {},
     "output_type": "execute_result"
    }
   ],
   "source": [
    "type(dict()) #By this we are basicaklly creating an empyty dictionary"
   ]
  },
  {
   "cell_type": "code",
   "execution_count": 81,
   "id": "86680abc-52c4-446b-882c-d80bf688d5c9",
   "metadata": {},
   "outputs": [],
   "source": [
    "#Creating a dictionary\n",
    "\n",
    "dict_1 = {'car1': 'benze', 'car2':'mercedes', 'car3':'minicooper', 'car4':'bmw'}"
   ]
  },
  {
   "cell_type": "markdown",
   "id": "bc47d1be-71b7-4432-9b17-317c488633ac",
   "metadata": {},
   "source": [
    "**Remember here we can use indexing but cannot retrieve elements using number indexing rather we need to specify the keys to retrieve the item values** "
   ]
  },
  {
   "cell_type": "code",
   "execution_count": 92,
   "id": "1e84fdde-b8dc-41ee-8c50-546f89cef8e0",
   "metadata": {},
   "outputs": [
    {
     "data": {
      "text/plain": [
       "'benze'"
      ]
     },
     "execution_count": 92,
     "metadata": {},
     "output_type": "execute_result"
    }
   ],
   "source": [
    "dict_1['car1']"
   ]
  },
  {
   "cell_type": "code",
   "execution_count": 105,
   "id": "85aec85d-e794-4ed7-8107-3ba6f2373676",
   "metadata": {},
   "outputs": [
    {
     "name": "stdout",
     "output_type": "stream",
     "text": [
      "car1\n",
      "car2\n",
      "car3\n",
      "car4\n"
     ]
    }
   ],
   "source": [
    "#iterating using dictionaries through keys\n",
    "\n",
    "for i in dict_1:\n",
    "    print(i)"
   ]
  },
  {
   "cell_type": "code",
   "execution_count": 109,
   "id": "732b5741-aeca-4ef1-8543-8d955d600e64",
   "metadata": {},
   "outputs": [
    {
     "name": "stdout",
     "output_type": "stream",
     "text": [
      "benze\n",
      "mercedes\n",
      "minicooper\n",
      "bmw\n"
     ]
    }
   ],
   "source": [
    "#We can also iterate dictionaries through their values\n",
    "\n",
    "for i in dict_1.values():\n",
    "    print(i)"
   ]
  },
  {
   "cell_type": "code",
   "execution_count": 111,
   "id": "3c1f2c25-cbd2-4f3b-80c1-2f1101b3a299",
   "metadata": {},
   "outputs": [
    {
     "name": "stdout",
     "output_type": "stream",
     "text": [
      "('car1', 'benze')\n",
      "('car2', 'mercedes')\n",
      "('car3', 'minicooper')\n",
      "('car4', 'bmw')\n"
     ]
    }
   ],
   "source": [
    "#To iteration through both the key and value pairs\n",
    "\n",
    "for i in dict_1.items():\n",
    "    print(i)"
   ]
  },
  {
   "cell_type": "code",
   "execution_count": 113,
   "id": "1625688f-14af-4141-bb2c-9ee44528926e",
   "metadata": {},
   "outputs": [],
   "source": [
    "#To add elements to the dictionary\n",
    "#Remember dictionary supports item assignment\n",
    "\n",
    "dict_1['car4']='maruthi'"
   ]
  },
  {
   "cell_type": "code",
   "execution_count": 117,
   "id": "4fd22f6f-ffc0-46bf-9a6d-735e9f46e454",
   "metadata": {},
   "outputs": [
    {
     "data": {
      "text/plain": [
       "{'car1': 'benze', 'car2': 'mercedes', 'car3': 'minicooper', 'car4': 'maruthi'}"
      ]
     },
     "execution_count": 117,
     "metadata": {},
     "output_type": "execute_result"
    }
   ],
   "source": [
    "dict_1"
   ]
  },
  {
   "cell_type": "markdown",
   "id": "30bef0de-eece-4bdd-973e-f11f6ccd15bc",
   "metadata": {},
   "source": [
    "**#But remember when we are trying to add another key with the same value that's present already, it overrides the existing value, let me show that to you**\n"
   ]
  },
  {
   "cell_type": "code",
   "execution_count": 120,
   "id": "37d96c07-177b-4fb5-8adc-7f964b0706ca",
   "metadata": {},
   "outputs": [],
   "source": [
    "dict_1['car1']='honda'"
   ]
  },
  {
   "cell_type": "code",
   "execution_count": 122,
   "id": "f6651c74-50b7-4dd4-8f2c-58fc9e3726dc",
   "metadata": {},
   "outputs": [
    {
     "data": {
      "text/plain": [
       "{'car1': 'honda', 'car2': 'mercedes', 'car3': 'minicooper', 'car4': 'maruthi'}"
      ]
     },
     "execution_count": 122,
     "metadata": {},
     "output_type": "execute_result"
    }
   ],
   "source": [
    "dict_1"
   ]
  },
  {
   "cell_type": "code",
   "execution_count": 124,
   "id": "a1211fd7-eaef-4209-9309-75447634cc31",
   "metadata": {},
   "outputs": [],
   "source": [
    "#Just a point to remember- in MongoDB all the data is stored in key-value pairs"
   ]
  },
  {
   "cell_type": "markdown",
   "id": "5252a19b-9baf-4207-9cae-ff26661f5846",
   "metadata": {},
   "source": [
    "**NESTED DICTIONARY**"
   ]
  },
  {
   "cell_type": "code",
   "execution_count": 127,
   "id": "9e72ccc4-2d13-4984-9f78-c0850cdaae23",
   "metadata": {},
   "outputs": [],
   "source": [
    "car1_model = {'mercedes':1960}\n",
    "car2_model = {'audi':1970}\n",
    "car3_model = {'ambassador': 1980}"
   ]
  },
  {
   "cell_type": "code",
   "execution_count": 133,
   "id": "012bec5a-1700-40c3-a228-9dfaf2214494",
   "metadata": {},
   "outputs": [],
   "source": [
    "car_model = {'car1':car1_model, 'car2':car2_model, 'car3':car3_model}"
   ]
  },
  {
   "cell_type": "markdown",
   "id": "122ec1c5-c85b-48b5-8fa3-d05c18fa12e8",
   "metadata": {},
   "source": [
    "**How is the indexing done or how do we retrieve the elements from this nested dictionary**"
   ]
  },
  {
   "cell_type": "code",
   "execution_count": 136,
   "id": "9537a85d-628d-448a-be35-6a5bb03903f4",
   "metadata": {},
   "outputs": [
    {
     "name": "stdout",
     "output_type": "stream",
     "text": [
      "{'mercedes': 1960}\n"
     ]
    }
   ],
   "source": [
    "print(car_model['car1']) #Here, we get the corresponding value of that key"
   ]
  },
  {
   "cell_type": "code",
   "execution_count": 142,
   "id": "f0dbc116-ead3-4c0d-8906-d065a97b0a38",
   "metadata": {},
   "outputs": [
    {
     "name": "stdout",
     "output_type": "stream",
     "text": [
      "1960\n"
     ]
    }
   ],
   "source": [
    "#But how do we extract just 1960? Let's see how it's done\n",
    "\n",
    "print(car_model['car1']['mercedes']) #in this case we specify 2 keys"
   ]
  },
  {
   "cell_type": "markdown",
   "id": "33a4610e-29f6-43c5-a7a0-678837d8067f",
   "metadata": {},
   "source": [
    "**TUPLES** : Tuple is not mutable, also while defining a tuple we need to use () braces.\n",
    "\n",
    "#Tuples are used where the definition of an item is required just once."
   ]
  },
  {
   "cell_type": "code",
   "execution_count": 151,
   "id": "9bc47816-9bc7-4766-ad79-581954e65e33",
   "metadata": {},
   "outputs": [
    {
     "name": "stdout",
     "output_type": "stream",
     "text": [
      "<class 'tuple'>\n"
     ]
    }
   ],
   "source": [
    "#define an empty tuple\n",
    "\n",
    "tuple_1 = tuple()\n",
    "print(type(tuple_1))"
   ]
  },
  {
   "cell_type": "code",
   "execution_count": 153,
   "id": "dfb582eb-30c0-4e0c-af82-2fa25eac8920",
   "metadata": {},
   "outputs": [],
   "source": [
    "tuple_1 = ('mickey', 'oggy','ben')"
   ]
  },
  {
   "cell_type": "code",
   "execution_count": 155,
   "id": "8073efb4-ccd9-4f9b-b3ea-38701cd3bc85",
   "metadata": {},
   "outputs": [
    {
     "data": {
      "text/plain": [
       "'mickey'"
      ]
     },
     "execution_count": 155,
     "metadata": {},
     "output_type": "execute_result"
    }
   ],
   "source": [
    "tuple_1[0] #Supports indexing"
   ]
  },
  {
   "cell_type": "code",
   "execution_count": 157,
   "id": "1c07d035-b750-4243-8bc1-cd6ac212ce9b",
   "metadata": {},
   "outputs": [
    {
     "ename": "TypeError",
     "evalue": "'tuple' object does not support item assignment",
     "output_type": "error",
     "traceback": [
      "\u001b[0;31m---------------------------------------------------------------------------\u001b[0m",
      "\u001b[0;31mTypeError\u001b[0m                                 Traceback (most recent call last)",
      "Cell \u001b[0;32mIn[157], line 1\u001b[0m\n\u001b[0;32m----> 1\u001b[0m tuple_1[\u001b[38;5;241m0\u001b[39m] \u001b[38;5;241m=\u001b[39m \u001b[38;5;124m'\u001b[39m\u001b[38;5;124mjack\u001b[39m\u001b[38;5;124m'\u001b[39m\n",
      "\u001b[0;31mTypeError\u001b[0m: 'tuple' object does not support item assignment"
     ]
    }
   ],
   "source": [
    "tuple_1[0] = 'jack' #Tuple doesn't support item assignment"
   ]
  },
  {
   "cell_type": "code",
   "execution_count": null,
   "id": "0230f43e-b5d8-40fe-b515-a789ef3238b4",
   "metadata": {},
   "outputs": [],
   "source": []
  }
 ],
 "metadata": {
  "kernelspec": {
   "display_name": "Python [conda env:base] *",
   "language": "python",
   "name": "conda-base-py"
  },
  "language_info": {
   "codemirror_mode": {
    "name": "ipython",
    "version": 3
   },
   "file_extension": ".py",
   "mimetype": "text/x-python",
   "name": "python",
   "nbconvert_exporter": "python",
   "pygments_lexer": "ipython3",
   "version": "3.12.7"
  }
 },
 "nbformat": 4,
 "nbformat_minor": 5
}
