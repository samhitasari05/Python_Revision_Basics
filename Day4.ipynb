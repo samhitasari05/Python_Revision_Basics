{
 "cells": [
  {
   "cell_type": "markdown",
   "id": "38d214fc-530e-4f94-a905-e0081ed0f31c",
   "metadata": {},
   "source": [
    "**NUMPY TUTORIALS** - used for creating multi-dimensional array"
   ]
  },
  {
   "cell_type": "markdown",
   "id": "d00edf80-9533-4e54-8cb2-cdd8bfb9c16c",
   "metadata": {},
   "source": [
    "**What is an Array?** - data structure of same data type, rest is similar to lists"
   ]
  },
  {
   "cell_type": "code",
   "execution_count": 48,
   "id": "83311637-16b5-42c4-b0e4-2a31a963eef0",
   "metadata": {},
   "outputs": [
    {
     "name": "stdout",
     "output_type": "stream",
     "text": [
      "Requirement already satisfied: numpy in /Users/samhi/Desktop/Python_Basics/venv/lib/python3.10/site-packages (2.2.3)\n",
      "Note: you may need to restart the kernel to use updated packages.\n"
     ]
    }
   ],
   "source": [
    "pip install numpy"
   ]
  },
  {
   "cell_type": "markdown",
   "id": "66ab2b2d-ba62-48b7-8979-d305bd4355bc",
   "metadata": {},
   "source": [
    "**else we can use** conda install numpy"
   ]
  },
  {
   "cell_type": "code",
   "execution_count": 50,
   "id": "16785372-8949-4129-ae55-034c4f50dc4c",
   "metadata": {},
   "outputs": [],
   "source": [
    "import numpy as np"
   ]
  },
  {
   "cell_type": "code",
   "execution_count": 12,
   "id": "c53eeb3d-49bb-442e-88cf-b8f34955db6a",
   "metadata": {},
   "outputs": [],
   "source": [
    "my_lst = [1,2,3,4]"
   ]
  },
  {
   "cell_type": "code",
   "execution_count": 14,
   "id": "1d2a13e6-f7d4-4002-9782-efd9e794e775",
   "metadata": {},
   "outputs": [],
   "source": [
    "arr = np.array(my_lst)"
   ]
  },
  {
   "cell_type": "code",
   "execution_count": 18,
   "id": "e72ed300-8678-4b88-9b48-776e22a67052",
   "metadata": {},
   "outputs": [
    {
     "data": {
      "text/plain": [
       "numpy.ndarray"
      ]
     },
     "execution_count": 18,
     "metadata": {},
     "output_type": "execute_result"
    }
   ],
   "source": [
    "type(arr)"
   ]
  },
  {
   "cell_type": "code",
   "execution_count": 24,
   "id": "2fb99c37-2a36-4e78-a007-d763d86bb620",
   "metadata": {},
   "outputs": [
    {
     "data": {
      "text/plain": [
       "array([1, 2, 3, 4])"
      ]
     },
     "execution_count": 24,
     "metadata": {},
     "output_type": "execute_result"
    }
   ],
   "source": [
    "arr #1D array"
   ]
  },
  {
   "cell_type": "code",
   "execution_count": 22,
   "id": "6af37d94-6ebb-4c50-a638-87625b3fffdc",
   "metadata": {},
   "outputs": [
    {
     "data": {
      "text/plain": [
       "(4,)"
      ]
     },
     "execution_count": 22,
     "metadata": {},
     "output_type": "execute_result"
    }
   ],
   "source": [
    "arr.shape"
   ]
  },
  {
   "cell_type": "markdown",
   "id": "f82b1d65-59ee-4e2d-892d-3307cdcf057f",
   "metadata": {},
   "source": [
    "**Can we convert 1D array to 2D?**\n",
    "\n",
    "Answer is yes"
   ]
  },
  {
   "cell_type": "markdown",
   "id": "c18d8fa8-b855-411b-aeaa-8cf9b2d7360c",
   "metadata": {},
   "source": [
    "using arr.reshape()"
   ]
  },
  {
   "cell_type": "code",
   "execution_count": 34,
   "id": "048a186c-efc1-486f-9c74-f48baaba4345",
   "metadata": {},
   "outputs": [],
   "source": [
    "#Multinested array\n",
    "\n",
    "my_lst1=[1,2,3,4,5]\n",
    "my_lst2=[2,3,4,6,7]\n",
    "my_lst3=[4,6,7,9,0]\n",
    "\n",
    "arr = np.array([my_lst1,my_lst2,my_lst3])"
   ]
  },
  {
   "cell_type": "code",
   "execution_count": 36,
   "id": "63799768-e551-4928-a926-ec69334a2342",
   "metadata": {},
   "outputs": [
    {
     "data": {
      "text/plain": [
       "array([[1, 2, 3, 4, 5],\n",
       "       [2, 3, 4, 6, 7],\n",
       "       [4, 6, 7, 9, 0]])"
      ]
     },
     "execution_count": 36,
     "metadata": {},
     "output_type": "execute_result"
    }
   ],
   "source": [
    "arr"
   ]
  },
  {
   "cell_type": "code",
   "execution_count": 38,
   "id": "e5adddcb-127a-4795-a4cf-1ed1338a3399",
   "metadata": {},
   "outputs": [
    {
     "data": {
      "text/plain": [
       "(3, 5)"
      ]
     },
     "execution_count": 38,
     "metadata": {},
     "output_type": "execute_result"
    }
   ],
   "source": [
    "arr.shape"
   ]
  },
  {
   "cell_type": "code",
   "execution_count": 40,
   "id": "824add1e-b2a4-42de-93a8-42958cd85dfe",
   "metadata": {},
   "outputs": [
    {
     "data": {
      "text/plain": [
       "array([[1, 2, 3],\n",
       "       [4, 5, 2],\n",
       "       [3, 4, 6],\n",
       "       [7, 4, 6],\n",
       "       [7, 9, 0]])"
      ]
     },
     "execution_count": 40,
     "metadata": {},
     "output_type": "execute_result"
    }
   ],
   "source": [
    "arr.reshape(5,3)"
   ]
  },
  {
   "cell_type": "markdown",
   "id": "f610b788-ef04-441f-a206-7179cd2c88c1",
   "metadata": {},
   "source": [
    "**Check the closing braces to understand the array dimension**"
   ]
  },
  {
   "cell_type": "markdown",
   "id": "e3f56fa1-5b58-4cf5-bb58-8007437cf994",
   "metadata": {},
   "source": [
    "**INDEXING**"
   ]
  },
  {
   "cell_type": "code",
   "execution_count": 52,
   "id": "e6b55e26-099e-4eab-9ab7-9a1bb73fe692",
   "metadata": {},
   "outputs": [],
   "source": [
    "#Accessing the array element\n",
    "\n",
    "arr = np.array([1,2,3,4,5,5,4,3])"
   ]
  },
  {
   "cell_type": "code",
   "execution_count": 54,
   "id": "6e1440af-ff4a-45b9-8720-a0b81397f624",
   "metadata": {},
   "outputs": [
    {
     "data": {
      "text/plain": [
       "np.int64(3)"
      ]
     },
     "execution_count": 54,
     "metadata": {},
     "output_type": "execute_result"
    }
   ],
   "source": [
    "arr[2]"
   ]
  },
  {
   "cell_type": "code",
   "execution_count": 58,
   "id": "75112101-db37-47ce-92c8-b53143cf47fd",
   "metadata": {},
   "outputs": [],
   "source": [
    "\n",
    "my_lst1=[1,2,3,4,5]\n",
    "my_lst2=[2,3,4,6,7]\n",
    "my_lst3=[4,6,7,9,0]\n",
    "\n",
    "arr = np.array([my_lst1,my_lst2,my_lst3])"
   ]
  },
  {
   "cell_type": "code",
   "execution_count": 60,
   "id": "c4a9e475-ebb7-4301-9b7d-d65b6d7a8b10",
   "metadata": {},
   "outputs": [
    {
     "data": {
      "text/plain": [
       "array([[1, 2, 3, 4, 5],\n",
       "       [2, 3, 4, 6, 7],\n",
       "       [4, 6, 7, 9, 0]])"
      ]
     },
     "execution_count": 60,
     "metadata": {},
     "output_type": "execute_result"
    }
   ],
   "source": [
    "arr"
   ]
  },
  {
   "cell_type": "code",
   "execution_count": 62,
   "id": "0463777f-82a3-4f1f-8e2a-2615d5530e5a",
   "metadata": {},
   "outputs": [
    {
     "data": {
      "text/plain": [
       "array([[1, 2],\n",
       "       [2, 3]])"
      ]
     },
     "execution_count": 62,
     "metadata": {},
     "output_type": "execute_result"
    }
   ],
   "source": [
    "arr[0:2,0:2]"
   ]
  },
  {
   "cell_type": "code",
   "execution_count": 64,
   "id": "2b68bdcc-79c7-41ae-b80f-96eae45ea403",
   "metadata": {},
   "outputs": [
    {
     "data": {
      "text/plain": [
       "array([[6, 7],\n",
       "       [9, 0]])"
      ]
     },
     "execution_count": 64,
     "metadata": {},
     "output_type": "execute_result"
    }
   ],
   "source": [
    "arr[1:,3:]"
   ]
  },
  {
   "cell_type": "markdown",
   "id": "71932780-bf2f-450c-adf7-30264ed02d43",
   "metadata": {},
   "source": [
    "**IN-BUILT FUNCTIONS**"
   ]
  },
  {
   "cell_type": "code",
   "execution_count": 71,
   "id": "41eec285-4ccd-4035-953e-09a7698e0414",
   "metadata": {},
   "outputs": [],
   "source": [
    "arr=np.arange(0,10) #has 3 parameters(start, stop, step)"
   ]
  },
  {
   "cell_type": "code",
   "execution_count": 73,
   "id": "17cf1744-43aa-4679-9ea6-5c2968d01414",
   "metadata": {},
   "outputs": [
    {
     "data": {
      "text/plain": [
       "array([0, 1, 2, 3, 4, 5, 6, 7, 8, 9])"
      ]
     },
     "execution_count": 73,
     "metadata": {},
     "output_type": "execute_result"
    }
   ],
   "source": [
    "arr"
   ]
  },
  {
   "cell_type": "code",
   "execution_count": 75,
   "id": "a569489e-72a9-452e-bcbd-aa26024bbc37",
   "metadata": {},
   "outputs": [],
   "source": [
    "#using the step parameter\n",
    "\n",
    "arr=np.arange(0,10,2)"
   ]
  },
  {
   "cell_type": "code",
   "execution_count": 77,
   "id": "c8c9ae9f-14fc-4358-9cae-91519e637bdd",
   "metadata": {},
   "outputs": [
    {
     "data": {
      "text/plain": [
       "array([0, 2, 4, 6, 8])"
      ]
     },
     "execution_count": 77,
     "metadata": {},
     "output_type": "execute_result"
    }
   ],
   "source": [
    "arr"
   ]
  },
  {
   "cell_type": "code",
   "execution_count": 79,
   "id": "a933e912-d238-4653-8c7e-c8b8084b0935",
   "metadata": {},
   "outputs": [
    {
     "data": {
      "text/plain": [
       "array([ 1.        ,  1.31034483,  1.62068966,  1.93103448,  2.24137931,\n",
       "        2.55172414,  2.86206897,  3.17241379,  3.48275862,  3.79310345,\n",
       "        4.10344828,  4.4137931 ,  4.72413793,  5.03448276,  5.34482759,\n",
       "        5.65517241,  5.96551724,  6.27586207,  6.5862069 ,  6.89655172,\n",
       "        7.20689655,  7.51724138,  7.82758621,  8.13793103,  8.44827586,\n",
       "        8.75862069,  9.06896552,  9.37931034,  9.68965517, 10.        ])"
      ]
     },
     "execution_count": 79,
     "metadata": {},
     "output_type": "execute_result"
    }
   ],
   "source": [
    "#Linspace - generates equally spaced points for the given/specified range\n",
    "\n",
    "np.linspace(1,10,30) #It will generate 30 points(equally spaced between 0 and 10)"
   ]
  },
  {
   "cell_type": "code",
   "execution_count": 81,
   "id": "bbb2c440-caa6-4187-ac44-65edab7bd3c2",
   "metadata": {},
   "outputs": [
    {
     "data": {
      "text/plain": [
       "array([0, 2, 4, 6, 8])"
      ]
     },
     "execution_count": 81,
     "metadata": {},
     "output_type": "execute_result"
    }
   ],
   "source": [
    "#Copy() and Broadcasting\n",
    "\n",
    "arr\n",
    "\n"
   ]
  },
  {
   "cell_type": "code",
   "execution_count": 83,
   "id": "4b241250-ab8e-40ab-9523-d18cc06fb038",
   "metadata": {},
   "outputs": [],
   "source": [
    "arr[3:]=10"
   ]
  },
  {
   "cell_type": "code",
   "execution_count": 85,
   "id": "e484f7fd-8384-42fa-9048-d34eb570d348",
   "metadata": {},
   "outputs": [
    {
     "data": {
      "text/plain": [
       "array([ 0,  2,  4, 10, 10])"
      ]
     },
     "execution_count": 85,
     "metadata": {},
     "output_type": "execute_result"
    }
   ],
   "source": [
    "arr"
   ]
  },
  {
   "cell_type": "code",
   "execution_count": 87,
   "id": "1bf08a76-4853-4ee8-9d4b-e89a7372037d",
   "metadata": {},
   "outputs": [],
   "source": [
    "arr1=arr"
   ]
  },
  {
   "cell_type": "code",
   "execution_count": 89,
   "id": "544506ad-d3a6-4119-8b57-c60312075416",
   "metadata": {},
   "outputs": [],
   "source": [
    "arr1[2:]=20"
   ]
  },
  {
   "cell_type": "code",
   "execution_count": 91,
   "id": "921583e7-8bbd-446f-994b-7ae90498e638",
   "metadata": {},
   "outputs": [
    {
     "data": {
      "text/plain": [
       "array([ 0,  2, 20, 20, 20])"
      ]
     },
     "execution_count": 91,
     "metadata": {},
     "output_type": "execute_result"
    }
   ],
   "source": [
    "arr1"
   ]
  },
  {
   "cell_type": "code",
   "execution_count": 93,
   "id": "d68af7c2-10a1-4059-bbdc-df824d83c0e4",
   "metadata": {},
   "outputs": [
    {
     "data": {
      "text/plain": [
       "array([ 0,  2, 20, 20, 20])"
      ]
     },
     "execution_count": 93,
     "metadata": {},
     "output_type": "execute_result"
    }
   ],
   "source": [
    "arr"
   ]
  },
  {
   "cell_type": "markdown",
   "id": "6e530348-8841-4f0b-b6e0-ff9af59e3b9e",
   "metadata": {},
   "source": [
    "**Array is reference type: meaning these 2 arrays are sharing the same memory**\n",
    "\n",
    "2 types: reference type and value type"
   ]
  },
  {
   "cell_type": "markdown",
   "id": "e7c6497a-8d94-4930-96ea-5dbb4725b517",
   "metadata": {},
   "source": [
    "**In-order to prevent this from happening, we have to use copy()**"
   ]
  },
  {
   "cell_type": "code",
   "execution_count": 100,
   "id": "4420bb07-7bef-4bdf-a221-8ba632a3acc1",
   "metadata": {},
   "outputs": [
    {
     "data": {
      "text/plain": [
       "array([ 0,  2, 20, 20, 20])"
      ]
     },
     "execution_count": 100,
     "metadata": {},
     "output_type": "execute_result"
    }
   ],
   "source": [
    "arr"
   ]
  },
  {
   "cell_type": "code",
   "execution_count": 102,
   "id": "9d7c4034-484e-408c-8ccd-57bb8bce58f9",
   "metadata": {},
   "outputs": [],
   "source": [
    "arr1=arr.copy()"
   ]
  },
  {
   "cell_type": "code",
   "execution_count": 104,
   "id": "12388441-8dec-4f43-a267-9868f074eeaa",
   "metadata": {},
   "outputs": [
    {
     "name": "stdout",
     "output_type": "stream",
     "text": [
      "[ 0  2 20 20 20]\n"
     ]
    }
   ],
   "source": [
    "print(arr)"
   ]
  },
  {
   "cell_type": "code",
   "execution_count": 106,
   "id": "8656aa87-8011-40c8-ae67-69ad4f4b5511",
   "metadata": {},
   "outputs": [],
   "source": [
    "arr1[2:]=10"
   ]
  },
  {
   "cell_type": "code",
   "execution_count": 108,
   "id": "d233efcd-66db-4f6d-b5c7-07680df5496d",
   "metadata": {},
   "outputs": [
    {
     "name": "stdout",
     "output_type": "stream",
     "text": [
      "[ 0  2 10 10 10]\n"
     ]
    }
   ],
   "source": [
    "print(arr1)"
   ]
  },
  {
   "cell_type": "markdown",
   "id": "c40fe041-88d0-4a7f-9a76-da2928d835d7",
   "metadata": {},
   "source": [
    "**#While copy function is used, another memory space is created and not replacing the content from arr as it was done earlier.**"
   ]
  },
  {
   "cell_type": "markdown",
   "id": "b8f810a3-407b-40c2-935d-5ecf3a75f393",
   "metadata": {},
   "source": [
    "**Some conditions which are very useful in Exploratory Data Analysis**"
   ]
  },
  {
   "cell_type": "code",
   "execution_count": 114,
   "id": "f0156347-2191-4af1-89e1-f988a3d2e8eb",
   "metadata": {},
   "outputs": [],
   "source": [
    "val =2"
   ]
  },
  {
   "cell_type": "code",
   "execution_count": 116,
   "id": "fad73bbf-7d77-412f-82aa-763f3ae8c1e0",
   "metadata": {},
   "outputs": [
    {
     "data": {
      "text/plain": [
       "array([ True,  True, False, False, False])"
      ]
     },
     "execution_count": 116,
     "metadata": {},
     "output_type": "execute_result"
    }
   ],
   "source": [
    "arr<10"
   ]
  },
  {
   "cell_type": "code",
   "execution_count": 118,
   "id": "c289b031-34dd-47ac-8731-e6ce8033d84c",
   "metadata": {},
   "outputs": [
    {
     "data": {
      "text/plain": [
       "array([0, 2])"
      ]
     },
     "execution_count": 118,
     "metadata": {},
     "output_type": "execute_result"
    }
   ],
   "source": [
    "arr[arr<10]"
   ]
  },
  {
   "cell_type": "markdown",
   "id": "d40c86ab-5f49-4bb7-918a-27e2e9c084bc",
   "metadata": {},
   "source": [
    "**Some more In-Built FUnctions**"
   ]
  },
  {
   "cell_type": "code",
   "execution_count": 121,
   "id": "f99aad2d-599f-414e-bdc2-a869a553503e",
   "metadata": {},
   "outputs": [
    {
     "data": {
      "text/plain": [
       "array([1., 1., 1., 1.])"
      ]
     },
     "execution_count": 121,
     "metadata": {},
     "output_type": "execute_result"
    }
   ],
   "source": [
    "np.ones(4) #all the elements are basically replaced by 1\n",
    "\n",
    "#Syntax: np.ones(shape, dtype) - dtype is float by default"
   ]
  },
  {
   "cell_type": "code",
   "execution_count": 123,
   "id": "9234d793-3da8-4509-9ae2-171b595cb530",
   "metadata": {},
   "outputs": [
    {
     "data": {
      "text/plain": [
       "array([1, 1, 1, 1])"
      ]
     },
     "execution_count": 123,
     "metadata": {},
     "output_type": "execute_result"
    }
   ],
   "source": [
    "np.ones(4, dtype=int)"
   ]
  },
  {
   "cell_type": "code",
   "execution_count": 125,
   "id": "b7ea6570-f8c4-4e8e-bbab-bad29023d9aa",
   "metadata": {},
   "outputs": [
    {
     "data": {
      "text/plain": [
       "array([[1, 1, 1, 1, 1],\n",
       "       [1, 1, 1, 1, 1]])"
      ]
     },
     "execution_count": 125,
     "metadata": {},
     "output_type": "execute_result"
    }
   ],
   "source": [
    "np.ones((2,5),dtype=int)"
   ]
  },
  {
   "cell_type": "markdown",
   "id": "83bb0540-f24c-4ac8-bcc0-fb479d444c72",
   "metadata": {},
   "source": [
    "**Random Distribution**"
   ]
  },
  {
   "cell_type": "code",
   "execution_count": 132,
   "id": "3679e8e7-2652-4afa-ac81-37123f5add78",
   "metadata": {},
   "outputs": [
    {
     "data": {
      "text/plain": [
       "array([[0.8545547 , 0.91889326, 0.1574508 , 0.84110528],\n",
       "       [0.49971274, 0.25213175, 0.97622278, 0.36985683],\n",
       "       [0.56248483, 0.31580039, 0.90988657, 0.13269293]])"
      ]
     },
     "execution_count": 132,
     "metadata": {},
     "output_type": "execute_result"
    }
   ],
   "source": [
    "np.random.rand(3,4) #Generates random values for the given shape"
   ]
  },
  {
   "cell_type": "code",
   "execution_count": 134,
   "id": "3b351f00-1147-4948-ad10-28564349d463",
   "metadata": {},
   "outputs": [
    {
     "data": {
      "text/plain": [
       "array([[-1.68338306, -0.54164668,  1.08220596],\n",
       "       [-1.20277443, -1.44288469, -0.20356498],\n",
       "       [-0.48358651, -0.84805105, -0.53763141],\n",
       "       [-0.70185658,  0.3308424 ,  1.52198524]])"
      ]
     },
     "execution_count": 134,
     "metadata": {},
     "output_type": "execute_result"
    }
   ],
   "source": [
    "np.random.randn(4,3) #Takes values based on standard normal distribution"
   ]
  },
  {
   "cell_type": "code",
   "execution_count": 136,
   "id": "d66d6cc9-164c-4cf2-9652-c1d9c2c562f3",
   "metadata": {},
   "outputs": [
    {
     "data": {
      "text/plain": [
       "array([0, 7, 9, 8, 9, 6, 4, 3])"
      ]
     },
     "execution_count": 136,
     "metadata": {},
     "output_type": "execute_result"
    }
   ],
   "source": [
    "np.random.randint(0,10, 8) #0-10 is the range and 8 is the number of numbers/values to have"
   ]
  },
  {
   "cell_type": "code",
   "execution_count": null,
   "id": "c7254fe2-2068-44d1-9632-3a28cd76c90e",
   "metadata": {},
   "outputs": [],
   "source": [
    "np.random.random_sample"
   ]
  }
 ],
 "metadata": {
  "kernelspec": {
   "display_name": "Python [conda env:venv]",
   "language": "python",
   "name": "conda-env-venv-py"
  },
  "language_info": {
   "codemirror_mode": {
    "name": "ipython",
    "version": 3
   },
   "file_extension": ".py",
   "mimetype": "text/x-python",
   "name": "python",
   "nbconvert_exporter": "python",
   "pygments_lexer": "ipython3",
   "version": "3.10.0"
  }
 },
 "nbformat": 4,
 "nbformat_minor": 5
}
