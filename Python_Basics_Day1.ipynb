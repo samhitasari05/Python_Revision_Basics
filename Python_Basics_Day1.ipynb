{
 "cells": [
  {
   "cell_type": "markdown",
   "id": "59829f6a-e1ab-4f2a-aa11-84476c98312f",
   "metadata": {},
   "source": [
    "BASICS OF PYTHON\n",
    "\n",
    "DAY 1:\n",
    "\n",
    "Today, I have learned about various data types in python, variable assignment, variables and print formatting"
   ]
  },
  {
   "cell_type": "code",
   "execution_count": null,
   "id": "c236b1a5-bfd4-4f4f-b0e0-1a2d95c8cfc7",
   "metadata": {},
   "outputs": [],
   "source": [
    "GENERALLY,  we can increase the size of the font in jupyter notebook using double and singles #\n",
    "#python\n",
    "##python"
   ]
  },
  {
   "cell_type": "markdown",
   "id": "f5247b92-2744-4848-8922-968a61803603",
   "metadata": {},
   "source": [
    "VARIOUS DATA TYPES IN PYTHON"
   ]
  },
  {
   "cell_type": "code",
   "execution_count": null,
   "id": "513b5962-2bfc-4e58-a079-e81f2292cec3",
   "metadata": {},
   "outputs": [],
   "source": [
    "NUMBERS:"
   ]
  },
  {
   "cell_type": "code",
   "execution_count": 2,
   "id": "e6a614c3-df6e-4940-8d8a-83db6b3a2c1e",
   "metadata": {},
   "outputs": [
    {
     "data": {
      "text/plain": [
       "2"
      ]
     },
     "execution_count": 2,
     "metadata": {},
     "output_type": "execute_result"
    }
   ],
   "source": [
    "1+1"
   ]
  },
  {
   "cell_type": "code",
   "execution_count": 4,
   "id": "eea2783c-80f3-44d8-8294-d2d9aa3241e0",
   "metadata": {},
   "outputs": [
    {
     "data": {
      "text/plain": [
       "20"
      ]
     },
     "execution_count": 4,
     "metadata": {},
     "output_type": "execute_result"
    }
   ],
   "source": [
    "4*5"
   ]
  },
  {
   "cell_type": "code",
   "execution_count": 6,
   "id": "62b616a2-a015-491e-a5f1-eff7a9385720",
   "metadata": {},
   "outputs": [
    {
     "data": {
      "text/plain": [
       "8.8"
      ]
     },
     "execution_count": 6,
     "metadata": {},
     "output_type": "execute_result"
    }
   ],
   "source": [
    "44/5"
   ]
  },
  {
   "cell_type": "code",
   "execution_count": 8,
   "id": "13c911af-b011-4801-aa2c-1ed8fed5356c",
   "metadata": {},
   "outputs": [
    {
     "data": {
      "text/plain": [
       "100"
      ]
     },
     "execution_count": 8,
     "metadata": {},
     "output_type": "execute_result"
    }
   ],
   "source": [
    "10**2"
   ]
  },
  {
   "cell_type": "code",
   "execution_count": 10,
   "id": "6e1b578a-d070-40d4-a47f-3078855fd06e",
   "metadata": {},
   "outputs": [
    {
     "data": {
      "text/plain": [
       "'strstrstrstrstrstrstrstrstrstr'"
      ]
     },
     "execution_count": 10,
     "metadata": {},
     "output_type": "execute_result"
    }
   ],
   "source": [
    "10*'str'"
   ]
  },
  {
   "cell_type": "markdown",
   "id": "2b399bd3-83f2-4dae-9e24-6e33ed058b49",
   "metadata": {},
   "source": [
    "To check the type of the data"
   ]
  },
  {
   "cell_type": "code",
   "execution_count": 12,
   "id": "587572d5-762e-46db-908f-864bd5cb1aa0",
   "metadata": {},
   "outputs": [
    {
     "data": {
      "text/plain": [
       "float"
      ]
     },
     "execution_count": 12,
     "metadata": {},
     "output_type": "execute_result"
    }
   ],
   "source": [
    "type(1.0)"
   ]
  },
  {
   "cell_type": "code",
   "execution_count": 14,
   "id": "12773e64-0f22-4908-bfc4-ff23e4b2a766",
   "metadata": {},
   "outputs": [
    {
     "data": {
      "text/plain": [
       "str"
      ]
     },
     "execution_count": 14,
     "metadata": {},
     "output_type": "execute_result"
    }
   ],
   "source": [
    "type('str')"
   ]
  },
  {
   "cell_type": "markdown",
   "id": "b9627149-307d-480d-a60d-f7142cd4a1ef",
   "metadata": {},
   "source": [
    "Variable Assignment"
   ]
  },
  {
   "cell_type": "code",
   "execution_count": 18,
   "id": "50997ae4-3c20-48d3-a650-e65976781351",
   "metadata": {},
   "outputs": [],
   "source": [
    "#syntax\n",
    "##var_name=value\n",
    "\n",
    "a=10"
   ]
  },
  {
   "cell_type": "code",
   "execution_count": 20,
   "id": "746d7079-6d5d-4c00-a7fc-ee66a5d69c72",
   "metadata": {},
   "outputs": [
    {
     "data": {
      "text/plain": [
       "int"
      ]
     },
     "execution_count": 20,
     "metadata": {},
     "output_type": "execute_result"
    }
   ],
   "source": [
    "type(a)"
   ]
  },
  {
   "cell_type": "code",
   "execution_count": 22,
   "id": "463c5e49-2e1a-4267-8d8a-57f211254e2f",
   "metadata": {},
   "outputs": [
    {
     "data": {
      "text/plain": [
       "str"
      ]
     },
     "execution_count": 22,
     "metadata": {},
     "output_type": "execute_result"
    }
   ],
   "source": [
    "a='sam'\n",
    "type(a)"
   ]
  },
  {
   "cell_type": "code",
   "execution_count": 24,
   "id": "f3c810fb-9a36-4041-a34f-83b0d83ad4fc",
   "metadata": {},
   "outputs": [],
   "source": [
    "#Mathematical operations with variable assignment\n",
    "\n",
    "a=10\n",
    "b=20"
   ]
  },
  {
   "cell_type": "code",
   "execution_count": 30,
   "id": "13fdab2b-c8ad-4d95-b037-4c0acc176d33",
   "metadata": {},
   "outputs": [
    {
     "name": "stdout",
     "output_type": "stream",
     "text": [
      "200\n",
      "0.5\n",
      "30\n",
      "-10\n",
      "10\n"
     ]
    }
   ],
   "source": [
    "print(a*b)\n",
    "print(a/b)\n",
    "print(a+b)\n",
    "print(a-b)\n",
    "print(a%b)"
   ]
  },
  {
   "cell_type": "markdown",
   "id": "7a3471b3-7013-4bf2-aea0-db5d3ce58e91",
   "metadata": {},
   "source": [
    "VARIOUS WAYS OF PRINTING"
   ]
  },
  {
   "cell_type": "code",
   "execution_count": 32,
   "id": "24991526-18da-48d2-a4f1-eecb88f3692b",
   "metadata": {},
   "outputs": [
    {
     "name": "stdout",
     "output_type": "stream",
     "text": [
      "Hello Sam\n"
     ]
    }
   ],
   "source": [
    "print(\"Hello Sam\")"
   ]
  },
  {
   "cell_type": "markdown",
   "id": "9589976a-a817-492d-a84d-963f3e63a036",
   "metadata": {},
   "source": [
    "DYNAMIC WAY OF PRINTING\n",
    "\n",
    "what if we want to print \"Hey My name is sam\" how are we going to do this?"
   ]
  },
  {
   "cell_type": "code",
   "execution_count": 35,
   "id": "986ef663-5494-4efa-8834-e4c921fac6f9",
   "metadata": {},
   "outputs": [],
   "source": [
    "first_name= \"Sam\"\n",
    "last_name = \"Sarikonda\""
   ]
  },
  {
   "cell_type": "code",
   "execution_count": 37,
   "id": "72febe6e-91fc-4797-9ecb-7ead6d2b0d33",
   "metadata": {},
   "outputs": [
    {
     "name": "stdout",
     "output_type": "stream",
     "text": [
      "my first name is Sam and my last name is Sarikonda\n"
     ]
    }
   ],
   "source": [
    "print(\"my first name is {} and my last name is {}\".format(first_name, last_name))"
   ]
  },
  {
   "cell_type": "code",
   "execution_count": 41,
   "id": "c37c8d91-eea5-4643-9eab-157038115e99",
   "metadata": {},
   "outputs": [
    {
     "name": "stdout",
     "output_type": "stream",
     "text": [
      "my first name is Sam and my last name is Sarikonda\n"
     ]
    }
   ],
   "source": [
    "print(\"my first name is {first} and my last name is {last}\".format(first=first_name, last=last_name))"
   ]
  },
  {
   "cell_type": "markdown",
   "id": "a9831a7a-ebfd-4b23-b298-81b4dd5fe4b5",
   "metadata": {},
   "source": [
    "In-built functions"
   ]
  },
  {
   "cell_type": "code",
   "execution_count": 43,
   "id": "997381bb-ad7e-492f-8006-8e177dffef49",
   "metadata": {},
   "outputs": [
    {
     "data": {
      "text/plain": [
       "3"
      ]
     },
     "execution_count": 43,
     "metadata": {},
     "output_type": "execute_result"
    }
   ],
   "source": [
    "len('sam')"
   ]
  },
  {
   "cell_type": "code",
   "execution_count": null,
   "id": "834a70c0-3fcd-4b76-8016-9db8df58fa86",
   "metadata": {},
   "outputs": [],
   "source": []
  }
 ],
 "metadata": {
  "kernelspec": {
   "display_name": "Python [conda env:base] *",
   "language": "python",
   "name": "conda-base-py"
  },
  "language_info": {
   "codemirror_mode": {
    "name": "ipython",
    "version": 3
   },
   "file_extension": ".py",
   "mimetype": "text/x-python",
   "name": "python",
   "nbconvert_exporter": "python",
   "pygments_lexer": "ipython3",
   "version": "3.12.7"
  }
 },
 "nbformat": 4,
 "nbformat_minor": 5
}
